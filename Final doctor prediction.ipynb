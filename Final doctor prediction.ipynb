{
 "cells": [
  {
   "cell_type": "code",
   "execution_count": 91,
   "metadata": {},
   "outputs": [],
   "source": [
    "import numpy as np\n",
    "import pandas as pd\n",
    "import seaborn as sns\n",
    "import matplotlib.pyplot as plt\n",
    "import warnings\n",
    "warnings.filterwarnings('ignore')"
   ]
  },
  {
   "cell_type": "code",
   "execution_count": 92,
   "metadata": {},
   "outputs": [
    {
     "data": {
      "text/html": [
       "<div>\n",
       "<style scoped>\n",
       "    .dataframe tbody tr th:only-of-type {\n",
       "        vertical-align: middle;\n",
       "    }\n",
       "\n",
       "    .dataframe tbody tr th {\n",
       "        vertical-align: top;\n",
       "    }\n",
       "\n",
       "    .dataframe thead th {\n",
       "        text-align: right;\n",
       "    }\n",
       "</style>\n",
       "<table border=\"1\" class=\"dataframe\">\n",
       "  <thead>\n",
       "    <tr style=\"text-align: right;\">\n",
       "      <th></th>\n",
       "      <th>Qualification</th>\n",
       "      <th>Experience</th>\n",
       "      <th>Rating</th>\n",
       "      <th>Place</th>\n",
       "      <th>Profile</th>\n",
       "      <th>Miscellaneous_Info</th>\n",
       "      <th>Fees</th>\n",
       "    </tr>\n",
       "  </thead>\n",
       "  <tbody>\n",
       "    <tr>\n",
       "      <th>0</th>\n",
       "      <td>BHMS, MD - Homeopathy</td>\n",
       "      <td>24 years experience</td>\n",
       "      <td>100%</td>\n",
       "      <td>Kakkanad, Ernakulam</td>\n",
       "      <td>Homeopath</td>\n",
       "      <td>100% 16 Feedback Kakkanad, Ernakulam</td>\n",
       "      <td>100</td>\n",
       "    </tr>\n",
       "    <tr>\n",
       "      <th>1</th>\n",
       "      <td>BAMS, MD - Ayurveda Medicine</td>\n",
       "      <td>12 years experience</td>\n",
       "      <td>98%</td>\n",
       "      <td>Whitefield, Bangalore</td>\n",
       "      <td>Ayurveda</td>\n",
       "      <td>98% 76 Feedback Whitefield, Bangalore</td>\n",
       "      <td>350</td>\n",
       "    </tr>\n",
       "    <tr>\n",
       "      <th>2</th>\n",
       "      <td>MBBS, MS - Otorhinolaryngology</td>\n",
       "      <td>9 years experience</td>\n",
       "      <td>NaN</td>\n",
       "      <td>Mathikere - BEL, Bangalore</td>\n",
       "      <td>ENT Specialist</td>\n",
       "      <td>NaN</td>\n",
       "      <td>300</td>\n",
       "    </tr>\n",
       "    <tr>\n",
       "      <th>3</th>\n",
       "      <td>BSc - Zoology, BAMS</td>\n",
       "      <td>12 years experience</td>\n",
       "      <td>NaN</td>\n",
       "      <td>Bannerghatta Road, Bangalore</td>\n",
       "      <td>Ayurveda</td>\n",
       "      <td>Bannerghatta Road, Bangalore ₹250 Available on...</td>\n",
       "      <td>250</td>\n",
       "    </tr>\n",
       "    <tr>\n",
       "      <th>4</th>\n",
       "      <td>BAMS</td>\n",
       "      <td>20 years experience</td>\n",
       "      <td>100%</td>\n",
       "      <td>Keelkattalai, Chennai</td>\n",
       "      <td>Ayurveda</td>\n",
       "      <td>100% 4 Feedback Keelkattalai, Chennai</td>\n",
       "      <td>250</td>\n",
       "    </tr>\n",
       "    <tr>\n",
       "      <th>...</th>\n",
       "      <td>...</td>\n",
       "      <td>...</td>\n",
       "      <td>...</td>\n",
       "      <td>...</td>\n",
       "      <td>...</td>\n",
       "      <td>...</td>\n",
       "      <td>...</td>\n",
       "    </tr>\n",
       "    <tr>\n",
       "      <th>5956</th>\n",
       "      <td>MBBS, MS - ENT</td>\n",
       "      <td>19 years experience</td>\n",
       "      <td>98%</td>\n",
       "      <td>Basavanagudi, Bangalore</td>\n",
       "      <td>ENT Specialist</td>\n",
       "      <td>98% 45 Feedback Basavanagudi, Bangalore</td>\n",
       "      <td>300</td>\n",
       "    </tr>\n",
       "    <tr>\n",
       "      <th>5957</th>\n",
       "      <td>MBBS</td>\n",
       "      <td>33 years experience</td>\n",
       "      <td>NaN</td>\n",
       "      <td>Nungambakkam, Chennai</td>\n",
       "      <td>General Medicine</td>\n",
       "      <td>NaN</td>\n",
       "      <td>100</td>\n",
       "    </tr>\n",
       "    <tr>\n",
       "      <th>5958</th>\n",
       "      <td>MBBS</td>\n",
       "      <td>41 years experience</td>\n",
       "      <td>97%</td>\n",
       "      <td>Greater Kailash Part 2, Delhi</td>\n",
       "      <td>General Medicine</td>\n",
       "      <td>97% 11 Feedback Greater Kailash Part 2, Delhi</td>\n",
       "      <td>600</td>\n",
       "    </tr>\n",
       "    <tr>\n",
       "      <th>5959</th>\n",
       "      <td>MBBS, MD - General Medicine</td>\n",
       "      <td>15 years experience</td>\n",
       "      <td>90%</td>\n",
       "      <td>Vileparle West, Mumbai</td>\n",
       "      <td>General Medicine</td>\n",
       "      <td>General Medical Consultation Viral Fever Treat...</td>\n",
       "      <td>100</td>\n",
       "    </tr>\n",
       "    <tr>\n",
       "      <th>5960</th>\n",
       "      <td>BDS, MDS - Orthodontics</td>\n",
       "      <td>17 years experience</td>\n",
       "      <td>100%</td>\n",
       "      <td>Pitampura, Delhi</td>\n",
       "      <td>Dentist</td>\n",
       "      <td>Acrylic Partial Denture Crowns and Bridges Fix...</td>\n",
       "      <td>200</td>\n",
       "    </tr>\n",
       "  </tbody>\n",
       "</table>\n",
       "<p>5961 rows × 7 columns</p>\n",
       "</div>"
      ],
      "text/plain": [
       "                       Qualification           Experience Rating  \\\n",
       "0              BHMS, MD - Homeopathy  24 years experience   100%   \n",
       "1       BAMS, MD - Ayurveda Medicine  12 years experience    98%   \n",
       "2     MBBS, MS - Otorhinolaryngology   9 years experience    NaN   \n",
       "3                BSc - Zoology, BAMS  12 years experience    NaN   \n",
       "4                               BAMS  20 years experience   100%   \n",
       "...                              ...                  ...    ...   \n",
       "5956                  MBBS, MS - ENT  19 years experience    98%   \n",
       "5957                            MBBS  33 years experience    NaN   \n",
       "5958                            MBBS  41 years experience    97%   \n",
       "5959     MBBS, MD - General Medicine  15 years experience    90%   \n",
       "5960         BDS, MDS - Orthodontics  17 years experience   100%   \n",
       "\n",
       "                              Place           Profile  \\\n",
       "0               Kakkanad, Ernakulam         Homeopath   \n",
       "1             Whitefield, Bangalore          Ayurveda   \n",
       "2        Mathikere - BEL, Bangalore    ENT Specialist   \n",
       "3      Bannerghatta Road, Bangalore          Ayurveda   \n",
       "4             Keelkattalai, Chennai          Ayurveda   \n",
       "...                             ...               ...   \n",
       "5956        Basavanagudi, Bangalore    ENT Specialist   \n",
       "5957          Nungambakkam, Chennai  General Medicine   \n",
       "5958  Greater Kailash Part 2, Delhi  General Medicine   \n",
       "5959         Vileparle West, Mumbai  General Medicine   \n",
       "5960               Pitampura, Delhi           Dentist   \n",
       "\n",
       "                                     Miscellaneous_Info  Fees  \n",
       "0                  100% 16 Feedback Kakkanad, Ernakulam   100  \n",
       "1                 98% 76 Feedback Whitefield, Bangalore   350  \n",
       "2                                                   NaN   300  \n",
       "3     Bannerghatta Road, Bangalore ₹250 Available on...   250  \n",
       "4                 100% 4 Feedback Keelkattalai, Chennai   250  \n",
       "...                                                 ...   ...  \n",
       "5956            98% 45 Feedback Basavanagudi, Bangalore   300  \n",
       "5957                                                NaN   100  \n",
       "5958      97% 11 Feedback Greater Kailash Part 2, Delhi   600  \n",
       "5959  General Medical Consultation Viral Fever Treat...   100  \n",
       "5960  Acrylic Partial Denture Crowns and Bridges Fix...   200  \n",
       "\n",
       "[5961 rows x 7 columns]"
      ]
     },
     "execution_count": 92,
     "metadata": {},
     "output_type": "execute_result"
    }
   ],
   "source": [
    "d=pd.read_csv('train.csv')\n",
    "d"
   ]
  },
  {
   "cell_type": "code",
   "execution_count": 93,
   "metadata": {},
   "outputs": [
    {
     "data": {
      "text/plain": [
       "(5961, 7)"
      ]
     },
     "execution_count": 93,
     "metadata": {},
     "output_type": "execute_result"
    }
   ],
   "source": [
    "d.shape"
   ]
  },
  {
   "cell_type": "markdown",
   "metadata": {},
   "source": [
    "Observation:Dataset has 5961 rows and 7 columns"
   ]
  },
  {
   "cell_type": "code",
   "execution_count": 94,
   "metadata": {},
   "outputs": [
    {
     "data": {
      "text/plain": [
       "Index(['Qualification', 'Experience', 'Rating', 'Place', 'Profile',\n",
       "       'Miscellaneous_Info', 'Fees'],\n",
       "      dtype='object')"
      ]
     },
     "execution_count": 94,
     "metadata": {},
     "output_type": "execute_result"
    }
   ],
   "source": [
    "d.columns"
   ]
  },
  {
   "cell_type": "code",
   "execution_count": 95,
   "metadata": {},
   "outputs": [
    {
     "name": "stdout",
     "output_type": "stream",
     "text": [
      "<class 'pandas.core.frame.DataFrame'>\n",
      "RangeIndex: 5961 entries, 0 to 5960\n",
      "Data columns (total 7 columns):\n",
      " #   Column              Non-Null Count  Dtype \n",
      "---  ------              --------------  ----- \n",
      " 0   Qualification       5961 non-null   object\n",
      " 1   Experience          5961 non-null   object\n",
      " 2   Rating              2659 non-null   object\n",
      " 3   Place               5936 non-null   object\n",
      " 4   Profile             5961 non-null   object\n",
      " 5   Miscellaneous_Info  3341 non-null   object\n",
      " 6   Fees                5961 non-null   int64 \n",
      "dtypes: int64(1), object(6)\n",
      "memory usage: 326.1+ KB\n"
     ]
    }
   ],
   "source": [
    "d.info()"
   ]
  },
  {
   "cell_type": "markdown",
   "metadata": {},
   "source": [
    "Observation:all coulmns except Fees are object\n",
    "            Fees is datatype int"
   ]
  },
  {
   "cell_type": "code",
   "execution_count": 96,
   "metadata": {},
   "outputs": [
    {
     "name": "stdout",
     "output_type": "stream",
     "text": [
      "['Homeopath' 'Ayurveda' 'ENT Specialist' 'Dentist' 'General Medicine'\n",
      " 'Dermatologists']\n"
     ]
    }
   ],
   "source": [
    "print(d[\"Profile\"].unique())"
   ]
  },
  {
   "cell_type": "code",
   "execution_count": 97,
   "metadata": {},
   "outputs": [],
   "source": [
    "#Splitting place as p1 p2 and Qualification as q1 q2\n",
    "p1=d['Place'].str.split(\",\").str[0]\n",
    "d['p1'] = p1\n",
    "p2=d['Place'].str.split(\",\").str[1]\n",
    "d['p2'] = p2\n",
    "q1=d['Qualification'].str.split(\",\").str[0]\n",
    "d['q1'] = q1\n",
    "q2=d['Qualification'].str.split(\",\").str[1]\n",
    "d['q2'] = q2"
   ]
  },
  {
   "cell_type": "code",
   "execution_count": 98,
   "metadata": {},
   "outputs": [],
   "source": [
    "#Remove % and years experience\n",
    "d['Experience']=pd.to_numeric(d['Experience'].str.replace(\"years experience\",\"\"))\n",
    "d['Rating']=pd.to_numeric(d['Rating'].str.replace(\"%\",\"\"))"
   ]
  },
  {
   "cell_type": "code",
   "execution_count": 99,
   "metadata": {},
   "outputs": [],
   "source": [
    "#Replacing NAN value for mis.\n",
    "def func(x):\n",
    "    try:\n",
    "        int(x)\n",
    "        return int(x)\n",
    "    except:\n",
    "        return np.nan\n",
    "    \n",
    "p=d['Miscellaneous_Info'].str.split(r'Feedback').str[0].str.split(\" \").str[-2].apply(func)\n",
    "d['mis'] = p"
   ]
  },
  {
   "cell_type": "code",
   "execution_count": 100,
   "metadata": {},
   "outputs": [
    {
     "data": {
      "text/html": [
       "<div>\n",
       "<style scoped>\n",
       "    .dataframe tbody tr th:only-of-type {\n",
       "        vertical-align: middle;\n",
       "    }\n",
       "\n",
       "    .dataframe tbody tr th {\n",
       "        vertical-align: top;\n",
       "    }\n",
       "\n",
       "    .dataframe thead th {\n",
       "        text-align: right;\n",
       "    }\n",
       "</style>\n",
       "<table border=\"1\" class=\"dataframe\">\n",
       "  <thead>\n",
       "    <tr style=\"text-align: right;\">\n",
       "      <th></th>\n",
       "      <th>Experience</th>\n",
       "      <th>Rating</th>\n",
       "      <th>Profile</th>\n",
       "      <th>Fees</th>\n",
       "      <th>p1</th>\n",
       "      <th>p2</th>\n",
       "      <th>q1</th>\n",
       "      <th>q2</th>\n",
       "      <th>mis</th>\n",
       "    </tr>\n",
       "  </thead>\n",
       "  <tbody>\n",
       "    <tr>\n",
       "      <th>0</th>\n",
       "      <td>24</td>\n",
       "      <td>100.0</td>\n",
       "      <td>Homeopath</td>\n",
       "      <td>100</td>\n",
       "      <td>Kakkanad</td>\n",
       "      <td>Ernakulam</td>\n",
       "      <td>BHMS</td>\n",
       "      <td>MD - Homeopathy</td>\n",
       "      <td>16.0</td>\n",
       "    </tr>\n",
       "    <tr>\n",
       "      <th>1</th>\n",
       "      <td>12</td>\n",
       "      <td>98.0</td>\n",
       "      <td>Ayurveda</td>\n",
       "      <td>350</td>\n",
       "      <td>Whitefield</td>\n",
       "      <td>Bangalore</td>\n",
       "      <td>BAMS</td>\n",
       "      <td>MD - Ayurveda Medicine</td>\n",
       "      <td>76.0</td>\n",
       "    </tr>\n",
       "    <tr>\n",
       "      <th>2</th>\n",
       "      <td>9</td>\n",
       "      <td>NaN</td>\n",
       "      <td>ENT Specialist</td>\n",
       "      <td>300</td>\n",
       "      <td>Mathikere - BEL</td>\n",
       "      <td>Bangalore</td>\n",
       "      <td>MBBS</td>\n",
       "      <td>MS - Otorhinolaryngology</td>\n",
       "      <td>NaN</td>\n",
       "    </tr>\n",
       "    <tr>\n",
       "      <th>3</th>\n",
       "      <td>12</td>\n",
       "      <td>NaN</td>\n",
       "      <td>Ayurveda</td>\n",
       "      <td>250</td>\n",
       "      <td>Bannerghatta Road</td>\n",
       "      <td>Bangalore</td>\n",
       "      <td>BSc - Zoology</td>\n",
       "      <td>BAMS</td>\n",
       "      <td>10.0</td>\n",
       "    </tr>\n",
       "    <tr>\n",
       "      <th>4</th>\n",
       "      <td>20</td>\n",
       "      <td>100.0</td>\n",
       "      <td>Ayurveda</td>\n",
       "      <td>250</td>\n",
       "      <td>Keelkattalai</td>\n",
       "      <td>Chennai</td>\n",
       "      <td>BAMS</td>\n",
       "      <td>NaN</td>\n",
       "      <td>4.0</td>\n",
       "    </tr>\n",
       "    <tr>\n",
       "      <th>...</th>\n",
       "      <td>...</td>\n",
       "      <td>...</td>\n",
       "      <td>...</td>\n",
       "      <td>...</td>\n",
       "      <td>...</td>\n",
       "      <td>...</td>\n",
       "      <td>...</td>\n",
       "      <td>...</td>\n",
       "      <td>...</td>\n",
       "    </tr>\n",
       "    <tr>\n",
       "      <th>5956</th>\n",
       "      <td>19</td>\n",
       "      <td>98.0</td>\n",
       "      <td>ENT Specialist</td>\n",
       "      <td>300</td>\n",
       "      <td>Basavanagudi</td>\n",
       "      <td>Bangalore</td>\n",
       "      <td>MBBS</td>\n",
       "      <td>MS - ENT</td>\n",
       "      <td>45.0</td>\n",
       "    </tr>\n",
       "    <tr>\n",
       "      <th>5957</th>\n",
       "      <td>33</td>\n",
       "      <td>NaN</td>\n",
       "      <td>General Medicine</td>\n",
       "      <td>100</td>\n",
       "      <td>Nungambakkam</td>\n",
       "      <td>Chennai</td>\n",
       "      <td>MBBS</td>\n",
       "      <td>NaN</td>\n",
       "      <td>NaN</td>\n",
       "    </tr>\n",
       "    <tr>\n",
       "      <th>5958</th>\n",
       "      <td>41</td>\n",
       "      <td>97.0</td>\n",
       "      <td>General Medicine</td>\n",
       "      <td>600</td>\n",
       "      <td>Greater Kailash Part 2</td>\n",
       "      <td>Delhi</td>\n",
       "      <td>MBBS</td>\n",
       "      <td>NaN</td>\n",
       "      <td>11.0</td>\n",
       "    </tr>\n",
       "    <tr>\n",
       "      <th>5959</th>\n",
       "      <td>15</td>\n",
       "      <td>90.0</td>\n",
       "      <td>General Medicine</td>\n",
       "      <td>100</td>\n",
       "      <td>Vileparle West</td>\n",
       "      <td>Mumbai</td>\n",
       "      <td>MBBS</td>\n",
       "      <td>MD - General Medicine</td>\n",
       "      <td>NaN</td>\n",
       "    </tr>\n",
       "    <tr>\n",
       "      <th>5960</th>\n",
       "      <td>17</td>\n",
       "      <td>100.0</td>\n",
       "      <td>Dentist</td>\n",
       "      <td>200</td>\n",
       "      <td>Pitampura</td>\n",
       "      <td>Delhi</td>\n",
       "      <td>BDS</td>\n",
       "      <td>MDS - Orthodontics</td>\n",
       "      <td>NaN</td>\n",
       "    </tr>\n",
       "  </tbody>\n",
       "</table>\n",
       "<p>5961 rows × 9 columns</p>\n",
       "</div>"
      ],
      "text/plain": [
       "      Experience  Rating           Profile  Fees                      p1  \\\n",
       "0             24   100.0         Homeopath   100                Kakkanad   \n",
       "1             12    98.0          Ayurveda   350              Whitefield   \n",
       "2              9     NaN    ENT Specialist   300         Mathikere - BEL   \n",
       "3             12     NaN          Ayurveda   250       Bannerghatta Road   \n",
       "4             20   100.0          Ayurveda   250            Keelkattalai   \n",
       "...          ...     ...               ...   ...                     ...   \n",
       "5956          19    98.0    ENT Specialist   300            Basavanagudi   \n",
       "5957          33     NaN  General Medicine   100            Nungambakkam   \n",
       "5958          41    97.0  General Medicine   600  Greater Kailash Part 2   \n",
       "5959          15    90.0  General Medicine   100          Vileparle West   \n",
       "5960          17   100.0           Dentist   200               Pitampura   \n",
       "\n",
       "              p2             q1                         q2   mis  \n",
       "0      Ernakulam           BHMS            MD - Homeopathy  16.0  \n",
       "1      Bangalore           BAMS     MD - Ayurveda Medicine  76.0  \n",
       "2      Bangalore           MBBS   MS - Otorhinolaryngology   NaN  \n",
       "3      Bangalore  BSc - Zoology                       BAMS  10.0  \n",
       "4        Chennai           BAMS                        NaN   4.0  \n",
       "...          ...            ...                        ...   ...  \n",
       "5956   Bangalore           MBBS                   MS - ENT  45.0  \n",
       "5957     Chennai           MBBS                        NaN   NaN  \n",
       "5958       Delhi           MBBS                        NaN  11.0  \n",
       "5959      Mumbai           MBBS      MD - General Medicine   NaN  \n",
       "5960       Delhi            BDS         MDS - Orthodontics   NaN  \n",
       "\n",
       "[5961 rows x 9 columns]"
      ]
     },
     "execution_count": 100,
     "metadata": {},
     "output_type": "execute_result"
    }
   ],
   "source": [
    "#drop Qualification,Place,Miscellaneous_Info\n",
    "d=d.drop([\"Qualification\",\"Place\",\"Miscellaneous_Info\"],axis=1)\n",
    "d"
   ]
  },
  {
   "cell_type": "code",
   "execution_count": 101,
   "metadata": {},
   "outputs": [
    {
     "data": {
      "text/plain": [
       "<matplotlib.axes._subplots.AxesSubplot at 0x2cc357598b0>"
      ]
     },
     "execution_count": 101,
     "metadata": {},
     "output_type": "execute_result"
    },
    {
     "data": {
      "image/png": "[encoded data removed]",
      "text/plain": [
       "<Figure size 432x288 with 2 Axes>"
      ]
     },
     "metadata": {
      "needs_background": "light"
     },
     "output_type": "display_data"
    }
   ],
   "source": [
    "#check null values\n",
    "sns.heatmap(d.isnull())"
   ]
  },
  {
   "cell_type": "markdown",
   "metadata": {},
   "source": [
    "Observation:Null values are present in Rating,q2 and mis"
   ]
  },
  {
   "cell_type": "code",
   "execution_count": 102,
   "metadata": {},
   "outputs": [],
   "source": [
    "#Replace null value \n",
    "from sklearn.impute import SimpleImputer\n",
    "imp1=SimpleImputer(strategy=\"mean\")\n",
    "d['Rating']=imp1.fit_transform(d['Rating'].values.reshape(-1,1))\n",
    "d['mis']=imp1.fit_transform(d['mis'].values.reshape(-1,1))\n",
    "\n",
    "for col in ['q2']:\n",
    "    d[col].fillna(d[col].mode()[0],inplace=True)"
   ]
  },
  {
   "cell_type": "code",
   "execution_count": 103,
   "metadata": {},
   "outputs": [
    {
     "data": {
      "text/plain": [
       "<matplotlib.axes._subplots.AxesSubplot at 0x2cc37186bb0>"
      ]
     },
     "execution_count": 103,
     "metadata": {},
     "output_type": "execute_result"
    },
    {
     "data": {
      "image/png": "[encoded data removed]",
      "text/plain": [
       "<Figure size 432x288 with 2 Axes>"
      ]
     },
     "metadata": {
      "needs_background": "light"
     },
     "output_type": "display_data"
    }
   ],
   "source": [
    "sns.heatmap(d.isnull())"
   ]
  },
  {
   "cell_type": "markdown",
   "metadata": {},
   "source": [
    "Observation:After replacing null values now no null values are present"
   ]
  },
  {
   "cell_type": "code",
   "execution_count": 104,
   "metadata": {},
   "outputs": [
    {
     "data": {
      "image/png": "[encoded data removed]",
      "text/plain": [
       "<Figure size 432x288 with 1 Axes>"
      ]
     },
     "metadata": {
      "needs_background": "light"
     },
     "output_type": "display_data"
    },
    {
     "name": "stdout",
     "output_type": "stream",
     "text": [
      "Dentist             1397\n",
      "General Medicine    1173\n",
      "Dermatologists      1034\n",
      "Homeopath            843\n",
      "Ayurveda             786\n",
      "ENT Specialist       728\n",
      "Name: Profile, dtype: int64\n"
     ]
    }
   ],
   "source": [
    "plt.subplots(figsize=(6,4))\n",
    "sns.countplot(x=\"Profile\",data=d)\n",
    "plt.title(\"Doctor consultation\")\n",
    "plt.xlabel(\"Profile\")\n",
    "plt.xticks(rotation='vertical')\n",
    "plt.ylabel(\"Count\")\n",
    "plt.show()\n",
    "print(d.Profile.value_counts())"
   ]
  },
  {
   "cell_type": "markdown",
   "metadata": {},
   "source": [
    "Observation: Denist count is high 1397, followed by general medicine and dermatologist "
   ]
  },
  {
   "cell_type": "code",
   "execution_count": 128,
   "metadata": {},
   "outputs": [
    {
     "data": {
      "image/png": "[encoded data removed]",
      "text/plain": [
       "<Figure size 432x288 with 1 Axes>"
      ]
     },
     "metadata": {
      "needs_background": "light"
     },
     "output_type": "display_data"
    },
    {
     "name": "stdout",
     "output_type": "stream",
     "text": [
      " Bangalore             1258\n",
      " Mumbai                1219\n",
      " Delhi                 1184\n",
      " Hyderabad              951\n",
      " Chennai                855\n",
      " Coimbatore             228\n",
      " Ernakulam              153\n",
      " Thiruvananthapuram      86\n",
      " Sector 5                 1\n",
      "Name: Place, dtype: int64\n"
     ]
    }
   ],
   "source": [
    "plt.subplots(figsize=(6,4))\n",
    "sns.countplot(x=\"p2\",data=d)\n",
    "plt.title(\"Doctor Consultation\")\n",
    "plt.xlabel(\"p2\")\n",
    "plt.ylabel(\"Count\")\n",
    "plt.xticks(rotation='vertical')\n",
    "plt.show()\n",
    "print(p2.value_counts())"
   ]
  },
  {
   "cell_type": "markdown",
   "metadata": {},
   "source": [
    "Observation: More clinic are in Bangalore 1258 followed by mumbai,Delhi. Less clinc are in Thiruvananthapuram and Sector 5                 1"
   ]
  },
  {
   "cell_type": "code",
   "execution_count": 106,
   "metadata": {},
   "outputs": [
    {
     "name": "stdout",
     "output_type": "stream",
     "text": [
      "Profile    Fees\n",
      "Ayurveda   100     203\n",
      "           200     126\n",
      "           300     120\n",
      "           500     111\n",
      "           150      57\n",
      "                  ... \n",
      "Homeopath  40        1\n",
      "           130       1\n",
      "           499       1\n",
      "           550       1\n",
      "           920       1\n",
      "Name: Fees, Length: 133, dtype: int64\n"
     ]
    },
    {
     "data": {
      "image/png": "[encoded data removed]",
      "text/plain": [
       "<Figure size 432x288 with 1 Axes>"
      ]
     },
     "metadata": {
      "needs_background": "light"
     },
     "output_type": "display_data"
    }
   ],
   "source": [
    "sns.barplot(x=\"Profile\",y=\"Fees\",data=d)\n",
    "plt.xticks(rotation='vertical')\n",
    "print(d.groupby('Profile')['Fees'].value_counts())"
   ]
  },
  {
   "cell_type": "markdown",
   "metadata": {},
   "source": [
    "Observation: Fees amount is high dermatogologists followed by ENT specilist and homeopthy. Lowest is for denstist and ayuveda"
   ]
  },
  {
   "cell_type": "code",
   "execution_count": 107,
   "metadata": {},
   "outputs": [
    {
     "name": "stdout",
     "output_type": "stream",
     "text": [
      "p2                   Fees\n",
      " Bangalore           300     229\n",
      "                     500     204\n",
      "                     200     185\n",
      "                     100     147\n",
      "                     400     147\n",
      "                            ... \n",
      " Thiruvananthapuram  350       2\n",
      "                     500       2\n",
      "                     5         1\n",
      "                     80        1\n",
      "                     250       1\n",
      "Name: Fees, Length: 148, dtype: int64\n"
     ]
    },
    {
     "data": {
      "image/png": "[encoded data removed]",
      "text/plain": [
       "<Figure size 432x288 with 1 Axes>"
      ]
     },
     "metadata": {
      "needs_background": "light"
     },
     "output_type": "display_data"
    }
   ],
   "source": [
    "sns.barplot(x=\"p2\",y=\"Fees\",data=d)\n",
    "plt.xticks(rotation='vertical')\n",
    "print(d.groupby('p2')['Fees'].value_counts())"
   ]
  },
  {
   "cell_type": "markdown",
   "metadata": {},
   "source": [
    "Observation: Fees in Delhi is high, followed by Bangalore and Hyderbad and Mumbai. Lowest is in Coimbatore"
   ]
  },
  {
   "cell_type": "code",
   "execution_count": 108,
   "metadata": {},
   "outputs": [
    {
     "data": {
      "text/plain": [
       "<matplotlib.axes._subplots.AxesSubplot at 0x2cc3abadaf0>"
      ]
     },
     "execution_count": 108,
     "metadata": {},
     "output_type": "execute_result"
    },
    {
     "data": {
      "image/png": "[encoded data removed]",
      "text/plain": [
       "<Figure size 1440x576 with 1 Axes>"
      ]
     },
     "metadata": {
      "needs_background": "light"
     },
     "output_type": "display_data"
    }
   ],
   "source": [
    "plt.figure(figsize=(20,8))\n",
    "mean_price=np.mean(d['Fees'])\n",
    "sns.boxplot(y='Fees',x='Profile',data=d)"
   ]
  },
  {
   "cell_type": "markdown",
   "metadata": {},
   "source": [
    "Observation: Outliers are present ayurveda and densist. General medicine has higher min max when compared to others"
   ]
  },
  {
   "cell_type": "code",
   "execution_count": 109,
   "metadata": {},
   "outputs": [
    {
     "data": {
      "text/plain": [
       "<function matplotlib.pyplot.show(*args, **kw)>"
      ]
     },
     "execution_count": 109,
     "metadata": {},
     "output_type": "execute_result"
    },
    {
     "data": {
      "image/png": "[encoded data removed]",
      "text/plain": [
       "<Figure size 432x288 with 1 Axes>"
      ]
     },
     "metadata": {
      "needs_background": "light"
     },
     "output_type": "display_data"
    }
   ],
   "source": [
    "plt.hist(d['Experience'],bins=20)\n",
    "plt.show"
   ]
  },
  {
   "cell_type": "markdown",
   "metadata": {},
   "source": [
    "Observation: Maximum of doctors ae having experience in between 10-16"
   ]
  },
  {
   "cell_type": "code",
   "execution_count": 110,
   "metadata": {},
   "outputs": [],
   "source": [
    "from sklearn import preprocessing\n",
    "le=preprocessing.LabelEncoder()\n",
    "list1=['Profile','p2','q1','q2','p1']\n",
    "for val in list1:\n",
    "    d[val]=le.fit_transform(d[val].astype(str))"
   ]
  },
  {
   "cell_type": "code",
   "execution_count": 111,
   "metadata": {},
   "outputs": [
    {
     "data": {
      "text/html": [
       "<div>\n",
       "<style scoped>\n",
       "    .dataframe tbody tr th:only-of-type {\n",
       "        vertical-align: middle;\n",
       "    }\n",
       "\n",
       "    .dataframe tbody tr th {\n",
       "        vertical-align: top;\n",
       "    }\n",
       "\n",
       "    .dataframe thead th {\n",
       "        text-align: right;\n",
       "    }\n",
       "</style>\n",
       "<table border=\"1\" class=\"dataframe\">\n",
       "  <thead>\n",
       "    <tr style=\"text-align: right;\">\n",
       "      <th></th>\n",
       "      <th>Experience</th>\n",
       "      <th>Rating</th>\n",
       "      <th>Profile</th>\n",
       "      <th>Fees</th>\n",
       "      <th>p1</th>\n",
       "      <th>p2</th>\n",
       "      <th>q1</th>\n",
       "      <th>q2</th>\n",
       "      <th>mis</th>\n",
       "    </tr>\n",
       "  </thead>\n",
       "  <tbody>\n",
       "    <tr>\n",
       "      <th>0</th>\n",
       "      <td>24</td>\n",
       "      <td>100.000000</td>\n",
       "      <td>5</td>\n",
       "      <td>100</td>\n",
       "      <td>296</td>\n",
       "      <td>4</td>\n",
       "      <td>8</td>\n",
       "      <td>252</td>\n",
       "      <td>16.000000</td>\n",
       "    </tr>\n",
       "    <tr>\n",
       "      <th>1</th>\n",
       "      <td>12</td>\n",
       "      <td>98.000000</td>\n",
       "      <td>0</td>\n",
       "      <td>350</td>\n",
       "      <td>855</td>\n",
       "      <td>0</td>\n",
       "      <td>5</td>\n",
       "      <td>241</td>\n",
       "      <td>76.000000</td>\n",
       "    </tr>\n",
       "    <tr>\n",
       "      <th>2</th>\n",
       "      <td>9</td>\n",
       "      <td>94.643475</td>\n",
       "      <td>3</td>\n",
       "      <td>300</td>\n",
       "      <td>452</td>\n",
       "      <td>0</td>\n",
       "      <td>79</td>\n",
       "      <td>334</td>\n",
       "      <td>39.133923</td>\n",
       "    </tr>\n",
       "    <tr>\n",
       "      <th>3</th>\n",
       "      <td>12</td>\n",
       "      <td>94.643475</td>\n",
       "      <td>0</td>\n",
       "      <td>250</td>\n",
       "      <td>68</td>\n",
       "      <td>0</td>\n",
       "      <td>12</td>\n",
       "      <td>7</td>\n",
       "      <td>10.000000</td>\n",
       "    </tr>\n",
       "    <tr>\n",
       "      <th>4</th>\n",
       "      <td>20</td>\n",
       "      <td>100.000000</td>\n",
       "      <td>0</td>\n",
       "      <td>250</td>\n",
       "      <td>335</td>\n",
       "      <td>1</td>\n",
       "      <td>5</td>\n",
       "      <td>328</td>\n",
       "      <td>4.000000</td>\n",
       "    </tr>\n",
       "    <tr>\n",
       "      <th>...</th>\n",
       "      <td>...</td>\n",
       "      <td>...</td>\n",
       "      <td>...</td>\n",
       "      <td>...</td>\n",
       "      <td>...</td>\n",
       "      <td>...</td>\n",
       "      <td>...</td>\n",
       "      <td>...</td>\n",
       "      <td>...</td>\n",
       "    </tr>\n",
       "    <tr>\n",
       "      <th>5956</th>\n",
       "      <td>19</td>\n",
       "      <td>98.000000</td>\n",
       "      <td>3</td>\n",
       "      <td>300</td>\n",
       "      <td>70</td>\n",
       "      <td>0</td>\n",
       "      <td>79</td>\n",
       "      <td>328</td>\n",
       "      <td>45.000000</td>\n",
       "    </tr>\n",
       "    <tr>\n",
       "      <th>5957</th>\n",
       "      <td>33</td>\n",
       "      <td>94.643475</td>\n",
       "      <td>4</td>\n",
       "      <td>100</td>\n",
       "      <td>535</td>\n",
       "      <td>1</td>\n",
       "      <td>79</td>\n",
       "      <td>328</td>\n",
       "      <td>39.133923</td>\n",
       "    </tr>\n",
       "    <tr>\n",
       "      <th>5958</th>\n",
       "      <td>41</td>\n",
       "      <td>97.000000</td>\n",
       "      <td>4</td>\n",
       "      <td>600</td>\n",
       "      <td>215</td>\n",
       "      <td>3</td>\n",
       "      <td>79</td>\n",
       "      <td>328</td>\n",
       "      <td>11.000000</td>\n",
       "    </tr>\n",
       "    <tr>\n",
       "      <th>5959</th>\n",
       "      <td>15</td>\n",
       "      <td>90.000000</td>\n",
       "      <td>4</td>\n",
       "      <td>100</td>\n",
       "      <td>840</td>\n",
       "      <td>6</td>\n",
       "      <td>79</td>\n",
       "      <td>249</td>\n",
       "      <td>39.133923</td>\n",
       "    </tr>\n",
       "    <tr>\n",
       "      <th>5960</th>\n",
       "      <td>17</td>\n",
       "      <td>100.000000</td>\n",
       "      <td>1</td>\n",
       "      <td>200</td>\n",
       "      <td>597</td>\n",
       "      <td>3</td>\n",
       "      <td>6</td>\n",
       "      <td>292</td>\n",
       "      <td>39.133923</td>\n",
       "    </tr>\n",
       "  </tbody>\n",
       "</table>\n",
       "<p>5961 rows × 9 columns</p>\n",
       "</div>"
      ],
      "text/plain": [
       "      Experience      Rating  Profile  Fees   p1  p2  q1   q2        mis\n",
       "0             24  100.000000        5   100  296   4   8  252  16.000000\n",
       "1             12   98.000000        0   350  855   0   5  241  76.000000\n",
       "2              9   94.643475        3   300  452   0  79  334  39.133923\n",
       "3             12   94.643475        0   250   68   0  12    7  10.000000\n",
       "4             20  100.000000        0   250  335   1   5  328   4.000000\n",
       "...          ...         ...      ...   ...  ...  ..  ..  ...        ...\n",
       "5956          19   98.000000        3   300   70   0  79  328  45.000000\n",
       "5957          33   94.643475        4   100  535   1  79  328  39.133923\n",
       "5958          41   97.000000        4   600  215   3  79  328  11.000000\n",
       "5959          15   90.000000        4   100  840   6  79  249  39.133923\n",
       "5960          17  100.000000        1   200  597   3   6  292  39.133923\n",
       "\n",
       "[5961 rows x 9 columns]"
      ]
     },
     "execution_count": 111,
     "metadata": {},
     "output_type": "execute_result"
    }
   ],
   "source": [
    "d"
   ]
  },
  {
   "cell_type": "code",
   "execution_count": 129,
   "metadata": {},
   "outputs": [
    {
     "data": {
      "text/plain": [
       "<matplotlib.axes._subplots.AxesSubplot at 0x2cc36c6abb0>"
      ]
     },
     "execution_count": 129,
     "metadata": {},
     "output_type": "execute_result"
    },
    {
     "data": {
      "image/png": "[encoded data removed]",
      "text/plain": [
       "<Figure size 576x432 with 2 Axes>"
      ]
     },
     "metadata": {
      "needs_background": "light"
     },
     "output_type": "display_data"
    }
   ],
   "source": [
    "#Correlation\n",
    "dfcor=d.corr()\n",
    "plt.figure(figsize=(8,6))\n",
    "sns.heatmap(dcor,annot=True,fmt='.0%')"
   ]
  },
  {
   "cell_type": "code",
   "execution_count": 137,
   "metadata": {},
   "outputs": [
    {
     "data": {
      "text/html": [
       "<div>\n",
       "<style scoped>\n",
       "    .dataframe tbody tr th:only-of-type {\n",
       "        vertical-align: middle;\n",
       "    }\n",
       "\n",
       "    .dataframe tbody tr th {\n",
       "        vertical-align: top;\n",
       "    }\n",
       "\n",
       "    .dataframe thead th {\n",
       "        text-align: right;\n",
       "    }\n",
       "</style>\n",
       "<table border=\"1\" class=\"dataframe\">\n",
       "  <thead>\n",
       "    <tr style=\"text-align: right;\">\n",
       "      <th></th>\n",
       "      <th>Experience</th>\n",
       "      <th>Rating</th>\n",
       "      <th>Profile</th>\n",
       "      <th>Fees</th>\n",
       "      <th>p1</th>\n",
       "      <th>p2</th>\n",
       "      <th>q1</th>\n",
       "      <th>q2</th>\n",
       "      <th>mis</th>\n",
       "    </tr>\n",
       "  </thead>\n",
       "  <tbody>\n",
       "    <tr>\n",
       "      <th>count</th>\n",
       "      <td>5961.000000</td>\n",
       "      <td>5961.000000</td>\n",
       "      <td>5961.000000</td>\n",
       "      <td>5961.000000</td>\n",
       "      <td>5961.000000</td>\n",
       "      <td>5961.000000</td>\n",
       "      <td>5961.000000</td>\n",
       "      <td>5961.000000</td>\n",
       "      <td>5961.000000</td>\n",
       "    </tr>\n",
       "    <tr>\n",
       "      <th>mean</th>\n",
       "      <td>17.303976</td>\n",
       "      <td>94.643475</td>\n",
       "      <td>2.441872</td>\n",
       "      <td>307.944640</td>\n",
       "      <td>412.804395</td>\n",
       "      <td>3.098977</td>\n",
       "      <td>47.962087</td>\n",
       "      <td>255.819661</td>\n",
       "      <td>39.133923</td>\n",
       "    </tr>\n",
       "    <tr>\n",
       "      <th>std</th>\n",
       "      <td>11.142798</td>\n",
       "      <td>5.244204</td>\n",
       "      <td>1.658014</td>\n",
       "      <td>190.920373</td>\n",
       "      <td>256.586353</td>\n",
       "      <td>2.350982</td>\n",
       "      <td>39.371696</td>\n",
       "      <td>102.878767</td>\n",
       "      <td>46.491790</td>\n",
       "    </tr>\n",
       "    <tr>\n",
       "      <th>min</th>\n",
       "      <td>0.000000</td>\n",
       "      <td>7.000000</td>\n",
       "      <td>0.000000</td>\n",
       "      <td>5.000000</td>\n",
       "      <td>0.000000</td>\n",
       "      <td>0.000000</td>\n",
       "      <td>0.000000</td>\n",
       "      <td>0.000000</td>\n",
       "      <td>1.000000</td>\n",
       "    </tr>\n",
       "    <tr>\n",
       "      <th>25%</th>\n",
       "      <td>9.000000</td>\n",
       "      <td>94.643475</td>\n",
       "      <td>1.000000</td>\n",
       "      <td>150.000000</td>\n",
       "      <td>195.000000</td>\n",
       "      <td>1.000000</td>\n",
       "      <td>6.000000</td>\n",
       "      <td>227.000000</td>\n",
       "      <td>39.133923</td>\n",
       "    </tr>\n",
       "    <tr>\n",
       "      <th>50%</th>\n",
       "      <td>14.000000</td>\n",
       "      <td>94.643475</td>\n",
       "      <td>2.000000</td>\n",
       "      <td>300.000000</td>\n",
       "      <td>409.000000</td>\n",
       "      <td>3.000000</td>\n",
       "      <td>79.000000</td>\n",
       "      <td>293.000000</td>\n",
       "      <td>39.133923</td>\n",
       "    </tr>\n",
       "    <tr>\n",
       "      <th>75%</th>\n",
       "      <td>23.000000</td>\n",
       "      <td>96.000000</td>\n",
       "      <td>4.000000</td>\n",
       "      <td>500.000000</td>\n",
       "      <td>626.000000</td>\n",
       "      <td>5.000000</td>\n",
       "      <td>79.000000</td>\n",
       "      <td>328.000000</td>\n",
       "      <td>39.133923</td>\n",
       "    </tr>\n",
       "    <tr>\n",
       "      <th>max</th>\n",
       "      <td>66.000000</td>\n",
       "      <td>100.000000</td>\n",
       "      <td>5.000000</td>\n",
       "      <td>950.000000</td>\n",
       "      <td>866.000000</td>\n",
       "      <td>9.000000</td>\n",
       "      <td>150.000000</td>\n",
       "      <td>425.000000</td>\n",
       "      <td>1782.000000</td>\n",
       "    </tr>\n",
       "  </tbody>\n",
       "</table>\n",
       "</div>"
      ],
      "text/plain": [
       "        Experience       Rating      Profile         Fees           p1  \\\n",
       "count  5961.000000  5961.000000  5961.000000  5961.000000  5961.000000   \n",
       "mean     17.303976    94.643475     2.441872   307.944640   412.804395   \n",
       "std      11.142798     5.244204     1.658014   190.920373   256.586353   \n",
       "min       0.000000     7.000000     0.000000     5.000000     0.000000   \n",
       "25%       9.000000    94.643475     1.000000   150.000000   195.000000   \n",
       "50%      14.000000    94.643475     2.000000   300.000000   409.000000   \n",
       "75%      23.000000    96.000000     4.000000   500.000000   626.000000   \n",
       "max      66.000000   100.000000     5.000000   950.000000   866.000000   \n",
       "\n",
       "                p2           q1           q2          mis  \n",
       "count  5961.000000  5961.000000  5961.000000  5961.000000  \n",
       "mean      3.098977    47.962087   255.819661    39.133923  \n",
       "std       2.350982    39.371696   102.878767    46.491790  \n",
       "min       0.000000     0.000000     0.000000     1.000000  \n",
       "25%       1.000000     6.000000   227.000000    39.133923  \n",
       "50%       3.000000    79.000000   293.000000    39.133923  \n",
       "75%       5.000000    79.000000   328.000000    39.133923  \n",
       "max       9.000000   150.000000   425.000000  1782.000000  "
      ]
     },
     "execution_count": 137,
     "metadata": {},
     "output_type": "execute_result"
    }
   ],
   "source": [
    "d.describe()"
   ]
  },
  {
   "cell_type": "markdown",
   "metadata": {},
   "source": [
    "Obsevation:\n",
    "    Exp min is 0 and max is 66\n",
    "    Rating min is 7 and max is 100\n",
    "    fees min is 5 and max is 950\n",
    "    difference between 75% and max is higher in exp,fees,mis outliers can be present"
   ]
  },
  {
   "cell_type": "code",
   "execution_count": 113,
   "metadata": {},
   "outputs": [
    {
     "data": {
      "text/plain": [
       "<matplotlib.axes._subplots.AxesSubplot at 0x2cc3ff958e0>"
      ]
     },
     "execution_count": 113,
     "metadata": {},
     "output_type": "execute_result"
    },
    {
     "data": {
      "image/png": "[encoded data removed]",
      "text/plain": [
       "<Figure size 576x432 with 1 Axes>"
      ]
     },
     "metadata": {
      "needs_background": "light"
     },
     "output_type": "display_data"
    }
   ],
   "source": [
    "plt.figure(figsize=(8,6))\n",
    "d.drop('Fees',axis=1).corrwith(d['Fees']).plot(kind='bar',grid=True)"
   ]
  },
  {
   "cell_type": "markdown",
   "metadata": {},
   "source": [
    "Observation: q2 and profile are highly correlated to target variable Fees.\n",
    "    expierence and mis are less correated to target variable Fees\n",
    "    rating p1,p2,q2 are negatively correlated to target variable Fees."
   ]
  },
  {
   "cell_type": "code",
   "execution_count": 114,
   "metadata": {},
   "outputs": [
    {
     "data": {
      "text/plain": [
       "Experience       AxesSubplot(0.125,0.536818;0.133621x0.343182)\n",
       "Rating        AxesSubplot(0.285345,0.536818;0.133621x0.343182)\n",
       "Profile        AxesSubplot(0.44569,0.536818;0.133621x0.343182)\n",
       "Fees          AxesSubplot(0.606034,0.536818;0.133621x0.343182)\n",
       "p1            AxesSubplot(0.766379,0.536818;0.133621x0.343182)\n",
       "p2                  AxesSubplot(0.125,0.125;0.133621x0.343182)\n",
       "q1               AxesSubplot(0.285345,0.125;0.133621x0.343182)\n",
       "q2                AxesSubplot(0.44569,0.125;0.133621x0.343182)\n",
       "mis              AxesSubplot(0.606034,0.125;0.133621x0.343182)\n",
       "dtype: object"
      ]
     },
     "execution_count": 114,
     "metadata": {},
     "output_type": "execute_result"
    },
    {
     "data": {
      "image/png": "[encoded data removed]",
      "text/plain": [
       "<Figure size 864x864 with 10 Axes>"
      ]
     },
     "metadata": {
      "needs_background": "light"
     },
     "output_type": "display_data"
    }
   ],
   "source": [
    "d.plot(kind='box',subplots=True,layout=(2,5),figsize=(12,12))"
   ]
  },
  {
   "cell_type": "markdown",
   "metadata": {},
   "source": [
    "Observation: Outliers are present in q2,mis,exp and rating"
   ]
  },
  {
   "cell_type": "code",
   "execution_count": 115,
   "metadata": {},
   "outputs": [
    {
     "name": "stdout",
     "output_type": "stream",
     "text": [
      "(array([  55,   67,  105,  110,  140,  178,  183,  209,  275,  293,  309,\n",
      "        325,  333,  372,  377,  425,  458,  465,  548,  585,  590,  632,\n",
      "        692,  713,  731,  754,  757,  786,  787,  788,  798,  815,  820,\n",
      "        837,  901,  911,  918,  968,  979,  987,  990,  998, 1009, 1018,\n",
      "       1111, 1170, 1240, 1303, 1314, 1325, 1327, 1392, 1425, 1433, 1444,\n",
      "       1475, 1492, 1594, 1614, 1631, 1648, 1717, 1741, 1747, 1755, 1770,\n",
      "       1777, 1778, 1796, 1817, 1852, 1860, 1877, 1981, 2018, 2023, 2025,\n",
      "       2062, 2089, 2161, 2165, 2202, 2230, 2252, 2262, 2277, 2281, 2309,\n",
      "       2323, 2391, 2393, 2428, 2444, 2478, 2500, 2505, 2522, 2548, 2585,\n",
      "       2586, 2590, 2623, 2631, 2646, 2670, 2708, 2715, 2726, 2738, 2758,\n",
      "       2829, 2833, 2880, 2899, 2910, 2962, 2991, 3002, 3023, 3042, 3093,\n",
      "       3120, 3126, 3144, 3180, 3191, 3194, 3222, 3254, 3270, 3332, 3333,\n",
      "       3365, 3367, 3463, 3472, 3478, 3493, 3526, 3537, 3542, 3544, 3593,\n",
      "       3604, 3608, 3615, 3627, 3661, 3662, 3676, 3766, 3783, 3820, 3861,\n",
      "       3921, 3942, 3960, 4020, 4040, 4055, 4058, 4135, 4167, 4174, 4183,\n",
      "       4191, 4212, 4212, 4219, 4257, 4344, 4459, 4474, 4478, 4509, 4581,\n",
      "       4608, 4609, 4612, 4706, 4730, 4747, 4763, 4775, 4808, 4815, 4825,\n",
      "       4831, 4835, 4843, 4851, 4861, 4880, 4913, 4960, 4971, 4992, 5028,\n",
      "       5071, 5127, 5128, 5158, 5176, 5195, 5234, 5244, 5249, 5250, 5255,\n",
      "       5262, 5265, 5277, 5298, 5311, 5316, 5339, 5351, 5386, 5410, 5417,\n",
      "       5422, 5422, 5431, 5459, 5461, 5502, 5523, 5531, 5546, 5587, 5593,\n",
      "       5612, 5615, 5636, 5637, 5647, 5663, 5664, 5684, 5720, 5807, 5840,\n",
      "       5862, 5878, 5892, 5901, 5942], dtype=int64), array([1, 1, 0, 0, 1, 1, 0, 1, 3, 3, 1, 0, 1, 0, 1, 8, 1, 1, 8, 1, 1, 1,\n",
      "       1, 8, 1, 8, 8, 8, 1, 1, 8, 1, 8, 8, 0, 1, 1, 1, 1, 3, 1, 1, 0, 1,\n",
      "       0, 1, 1, 1, 3, 8, 8, 1, 1, 1, 1, 1, 8, 1, 1, 3, 1, 1, 1, 1, 8, 8,\n",
      "       8, 1, 1, 8, 1, 0, 1, 0, 8, 0, 8, 0, 1, 1, 3, 0, 8, 3, 0, 1, 0, 1,\n",
      "       1, 1, 3, 3, 8, 1, 1, 8, 3, 1, 1, 8, 8, 3, 0, 1, 1, 3, 1, 1, 1, 1,\n",
      "       1, 1, 8, 8, 8, 1, 1, 8, 8, 8, 1, 1, 1, 1, 0, 8, 8, 1, 1, 1, 8, 1,\n",
      "       3, 1, 1, 8, 0, 0, 1, 1, 8, 8, 1, 1, 0, 1, 1, 1, 8, 1, 1, 1, 1, 1,\n",
      "       8, 0, 0, 8, 3, 1, 1, 1, 0, 1, 8, 8, 0, 1, 1, 0, 0, 1, 1, 1, 1, 3,\n",
      "       1, 1, 1, 8, 3, 8, 0, 0, 1, 8, 1, 8, 3, 1, 1, 8, 1, 8, 8, 1, 8, 1,\n",
      "       8, 1, 8, 8, 8, 3, 8, 1, 1, 3, 8, 1, 0, 0, 1, 3, 1, 8, 1, 8, 0, 8,\n",
      "       0, 1, 8, 8, 1, 1, 1, 1, 8, 0, 8, 1, 1, 1, 0, 1, 1, 0, 8, 0, 0, 1,\n",
      "       1, 8, 1, 8, 0], dtype=int64))\n"
     ]
    },
    {
     "data": {
      "text/html": [
       "<div>\n",
       "<style scoped>\n",
       "    .dataframe tbody tr th:only-of-type {\n",
       "        vertical-align: middle;\n",
       "    }\n",
       "\n",
       "    .dataframe tbody tr th {\n",
       "        vertical-align: top;\n",
       "    }\n",
       "\n",
       "    .dataframe thead th {\n",
       "        text-align: right;\n",
       "    }\n",
       "</style>\n",
       "<table border=\"1\" class=\"dataframe\">\n",
       "  <thead>\n",
       "    <tr style=\"text-align: right;\">\n",
       "      <th></th>\n",
       "      <th>Experience</th>\n",
       "      <th>Rating</th>\n",
       "      <th>Profile</th>\n",
       "      <th>Fees</th>\n",
       "      <th>p1</th>\n",
       "      <th>p2</th>\n",
       "      <th>q1</th>\n",
       "      <th>q2</th>\n",
       "      <th>mis</th>\n",
       "    </tr>\n",
       "  </thead>\n",
       "  <tbody>\n",
       "    <tr>\n",
       "      <th>0</th>\n",
       "      <td>24</td>\n",
       "      <td>100.000000</td>\n",
       "      <td>5</td>\n",
       "      <td>100</td>\n",
       "      <td>296</td>\n",
       "      <td>4</td>\n",
       "      <td>8</td>\n",
       "      <td>252</td>\n",
       "      <td>16.000000</td>\n",
       "    </tr>\n",
       "    <tr>\n",
       "      <th>1</th>\n",
       "      <td>12</td>\n",
       "      <td>98.000000</td>\n",
       "      <td>0</td>\n",
       "      <td>350</td>\n",
       "      <td>855</td>\n",
       "      <td>0</td>\n",
       "      <td>5</td>\n",
       "      <td>241</td>\n",
       "      <td>76.000000</td>\n",
       "    </tr>\n",
       "    <tr>\n",
       "      <th>2</th>\n",
       "      <td>9</td>\n",
       "      <td>94.643475</td>\n",
       "      <td>3</td>\n",
       "      <td>300</td>\n",
       "      <td>452</td>\n",
       "      <td>0</td>\n",
       "      <td>79</td>\n",
       "      <td>334</td>\n",
       "      <td>39.133923</td>\n",
       "    </tr>\n",
       "    <tr>\n",
       "      <th>3</th>\n",
       "      <td>12</td>\n",
       "      <td>94.643475</td>\n",
       "      <td>0</td>\n",
       "      <td>250</td>\n",
       "      <td>68</td>\n",
       "      <td>0</td>\n",
       "      <td>12</td>\n",
       "      <td>7</td>\n",
       "      <td>10.000000</td>\n",
       "    </tr>\n",
       "    <tr>\n",
       "      <th>4</th>\n",
       "      <td>20</td>\n",
       "      <td>100.000000</td>\n",
       "      <td>0</td>\n",
       "      <td>250</td>\n",
       "      <td>335</td>\n",
       "      <td>1</td>\n",
       "      <td>5</td>\n",
       "      <td>328</td>\n",
       "      <td>4.000000</td>\n",
       "    </tr>\n",
       "    <tr>\n",
       "      <th>...</th>\n",
       "      <td>...</td>\n",
       "      <td>...</td>\n",
       "      <td>...</td>\n",
       "      <td>...</td>\n",
       "      <td>...</td>\n",
       "      <td>...</td>\n",
       "      <td>...</td>\n",
       "      <td>...</td>\n",
       "      <td>...</td>\n",
       "    </tr>\n",
       "    <tr>\n",
       "      <th>5956</th>\n",
       "      <td>19</td>\n",
       "      <td>98.000000</td>\n",
       "      <td>3</td>\n",
       "      <td>300</td>\n",
       "      <td>70</td>\n",
       "      <td>0</td>\n",
       "      <td>79</td>\n",
       "      <td>328</td>\n",
       "      <td>45.000000</td>\n",
       "    </tr>\n",
       "    <tr>\n",
       "      <th>5957</th>\n",
       "      <td>33</td>\n",
       "      <td>94.643475</td>\n",
       "      <td>4</td>\n",
       "      <td>100</td>\n",
       "      <td>535</td>\n",
       "      <td>1</td>\n",
       "      <td>79</td>\n",
       "      <td>328</td>\n",
       "      <td>39.133923</td>\n",
       "    </tr>\n",
       "    <tr>\n",
       "      <th>5958</th>\n",
       "      <td>41</td>\n",
       "      <td>97.000000</td>\n",
       "      <td>4</td>\n",
       "      <td>600</td>\n",
       "      <td>215</td>\n",
       "      <td>3</td>\n",
       "      <td>79</td>\n",
       "      <td>328</td>\n",
       "      <td>11.000000</td>\n",
       "    </tr>\n",
       "    <tr>\n",
       "      <th>5959</th>\n",
       "      <td>15</td>\n",
       "      <td>90.000000</td>\n",
       "      <td>4</td>\n",
       "      <td>100</td>\n",
       "      <td>840</td>\n",
       "      <td>6</td>\n",
       "      <td>79</td>\n",
       "      <td>249</td>\n",
       "      <td>39.133923</td>\n",
       "    </tr>\n",
       "    <tr>\n",
       "      <th>5960</th>\n",
       "      <td>17</td>\n",
       "      <td>100.000000</td>\n",
       "      <td>1</td>\n",
       "      <td>200</td>\n",
       "      <td>597</td>\n",
       "      <td>3</td>\n",
       "      <td>6</td>\n",
       "      <td>292</td>\n",
       "      <td>39.133923</td>\n",
       "    </tr>\n",
       "  </tbody>\n",
       "</table>\n",
       "<p>5716 rows × 9 columns</p>\n",
       "</div>"
      ],
      "text/plain": [
       "      Experience      Rating  Profile  Fees   p1  p2  q1   q2        mis\n",
       "0             24  100.000000        5   100  296   4   8  252  16.000000\n",
       "1             12   98.000000        0   350  855   0   5  241  76.000000\n",
       "2              9   94.643475        3   300  452   0  79  334  39.133923\n",
       "3             12   94.643475        0   250   68   0  12    7  10.000000\n",
       "4             20  100.000000        0   250  335   1   5  328   4.000000\n",
       "...          ...         ...      ...   ...  ...  ..  ..  ...        ...\n",
       "5956          19   98.000000        3   300   70   0  79  328  45.000000\n",
       "5957          33   94.643475        4   100  535   1  79  328  39.133923\n",
       "5958          41   97.000000        4   600  215   3  79  328  11.000000\n",
       "5959          15   90.000000        4   100  840   6  79  249  39.133923\n",
       "5960          17  100.000000        1   200  597   3   6  292  39.133923\n",
       "\n",
       "[5716 rows x 9 columns]"
      ]
     },
     "execution_count": 115,
     "metadata": {},
     "output_type": "execute_result"
    }
   ],
   "source": [
    "#Outliers\n",
    "from scipy.stats import zscore\n",
    "z=np.abs(zscore(d))\n",
    "threshold=3\n",
    "print(np.where(z>3))\n",
    "data=d[(z<3).all(axis=1)]\n",
    "data"
   ]
  },
  {
   "cell_type": "code",
   "execution_count": 116,
   "metadata": {},
   "outputs": [
    {
     "name": "stdout",
     "output_type": "stream",
     "text": [
      "(5961, 9)\n",
      "(5716, 9)\n"
     ]
    }
   ],
   "source": [
    "print(d.shape) #dataset\n",
    "print(data.shape) #Removed Outliers"
   ]
  },
  {
   "cell_type": "code",
   "execution_count": 117,
   "metadata": {},
   "outputs": [
    {
     "data": {
      "text/plain": [
       "Experience    0.914749\n",
       "Rating       -1.539197\n",
       "Profile       0.136187\n",
       "Fees          0.729462\n",
       "p1            0.110470\n",
       "p2            0.076159\n",
       "q1            0.125117\n",
       "q2           -1.105679\n",
       "mis           2.234760\n",
       "dtype: float64"
      ]
     },
     "execution_count": 117,
     "metadata": {},
     "output_type": "execute_result"
    }
   ],
   "source": [
    "#Skewness\n",
    "data.skew()"
   ]
  },
  {
   "cell_type": "code",
   "execution_count": null,
   "metadata": {},
   "outputs": [],
   "source": [
    "Observation: Given data is not skewed except mis."
   ]
  },
  {
   "cell_type": "code",
   "execution_count": 118,
   "metadata": {},
   "outputs": [],
   "source": [
    "df_x=data.drop(columns=['Fees'])\n",
    "y=pd.DataFrame(data['Fees'])\n",
    "x=pd.DataFrame(df_x)"
   ]
  },
  {
   "cell_type": "code",
   "execution_count": 119,
   "metadata": {},
   "outputs": [],
   "source": [
    "from sklearn.preprocessing import StandardScaler\n",
    "sc=StandardScaler()\n",
    "x=sc.fit_transform(x)\n",
    "x=pd.DataFrame(x,columns=df_x.columns)"
   ]
  },
  {
   "cell_type": "code",
   "execution_count": 120,
   "metadata": {},
   "outputs": [],
   "source": [
    "from sklearn.model_selection import train_test_split\n",
    "x_train,x_test,y_train,y_test=train_test_split(x,y,test_size=.30,random_state=42)"
   ]
  },
  {
   "cell_type": "code",
   "execution_count": 121,
   "metadata": {},
   "outputs": [
    {
     "name": "stdout",
     "output_type": "stream",
     "text": [
      "max r2 score corresponding to  42 is 0.0959978775422885\n"
     ]
    }
   ],
   "source": [
    "from sklearn.metrics import mean_squared_error,mean_absolute_error,r2_score\n",
    "from sklearn.linear_model import LinearRegression\n",
    "max_r_score=0\n",
    "for r_state in range(30,100):\n",
    "    reg=LinearRegression()\n",
    "    x_train,x_test,y_train,y_test=train_test_split(x,y,test_size=0.20,random_state=r_state)\n",
    "    reg.fit(x_train,y_train)\n",
    "    y_pred=reg.predict(x_test)\n",
    "    r2_scr=r2_score(y_test,y_pred)\n",
    "    if r2_scr>max_r_score:\n",
    "        max_r_score=r2_scr\n",
    "        final_r_state=r_state\n",
    "print(\"max r2 score corresponding to \",final_r_state,\"is\",max_r_score)"
   ]
  },
  {
   "cell_type": "code",
   "execution_count": 122,
   "metadata": {},
   "outputs": [
    {
     "name": "stdout",
     "output_type": "stream",
     "text": [
      "LinearRegression() score 0.07528031362941934\n",
      "mean abs error 149.98390932545615\n",
      "mean square error 33889.6541235635\n",
      "RMSE 184.09142870748627\n",
      "r2score 0.046602361879171994\n",
      "*********************************************\n",
      "\n",
      "\n",
      "DecisionTreeRegressor() score 0.9984679023486799\n",
      "mean abs error 164.92307692307693\n",
      "mean square error 53208.441919191915\n",
      "RMSE 230.6695513482261\n",
      "r2score -0.4968816934184954\n",
      "*********************************************\n",
      "\n",
      "\n",
      "KNeighborsRegressor() score 0.36184637475330084\n",
      "mean abs error 142.09755244755246\n",
      "mean square error 35193.33398601398\n",
      "RMSE 187.59886456483147\n",
      "r2score 0.009926705727763552\n",
      "*********************************************\n",
      "\n",
      "\n",
      "SVR() score 0.04979799436548571\n",
      "mean abs error 146.43213007977658\n",
      "mean square error 34902.11494453232\n",
      "RMSE 186.8210773562028\n",
      "r2score 0.018119399147180415\n",
      "*********************************************\n",
      "\n",
      "\n",
      "Lasso() score 0.07506398151197047\n",
      "mean abs error 149.96410367226815\n",
      "mean square error 33802.641751333154\n",
      "RMSE 183.85494758459222\n",
      "r2score 0.049050229593290307\n",
      "*********************************************\n",
      "\n",
      "\n",
      "Ridge() score 0.0752803106493587\n",
      "mean abs error 149.9839910644625\n",
      "mean square error 33889.41301010553\n",
      "RMSE 184.09077383211124\n",
      "r2score 0.04660914498178237\n",
      "*********************************************\n",
      "\n",
      "\n",
      "ElasticNet() score 0.06798151004266706\n",
      "mean abs error 150.5209054466356\n",
      "mean square error 33768.892555132195\n",
      "RMSE 183.76314253715896\n",
      "r2score 0.049999675811571276\n",
      "*********************************************\n",
      "\n",
      "\n",
      "AdaBoostRegressor() score 0.11876708279808257\n",
      "mean abs error 146.07331169900812\n",
      "mean square error 31201.21376702553\n",
      "RMSE 176.63865309446155\n",
      "r2score 0.12223466773884906\n",
      "*********************************************\n",
      "\n",
      "\n",
      "RandomForestRegressor() score 0.8839667703183614\n",
      "mean abs error 132.91005778943278\n",
      "mean square error 30802.97458520294\n",
      "RMSE 175.50776217934904\n",
      "r2score 0.1334380956042529\n",
      "*********************************************\n",
      "\n",
      "\n",
      "GradientBoostingRegressor() score 0.2831218303234879\n",
      "mean abs error 132.34692570723553\n",
      "mean square error 28405.186603521575\n",
      "RMSE 168.53838317582608\n",
      "r2score 0.20089364974223478\n",
      "*********************************************\n",
      "\n",
      "\n"
     ]
    }
   ],
   "source": [
    "from sklearn.linear_model import LinearRegression,Lasso,Ridge,ElasticNet\n",
    "from sklearn.model_selection import train_test_split\n",
    "from sklearn.svm import SVR\n",
    "from sklearn.tree import DecisionTreeRegressor\n",
    "from sklearn.neighbors import KNeighborsRegressor\n",
    "from sklearn.ensemble import AdaBoostRegressor,RandomForestRegressor,GradientBoostingRegressor\n",
    "from sklearn import linear_model\n",
    "model=[LinearRegression(),DecisionTreeRegressor(),KNeighborsRegressor(),SVR(),Lasso(),Ridge(),ElasticNet(),AdaBoostRegressor(),RandomForestRegressor(),GradientBoostingRegressor()]\n",
    "for m in model:\n",
    "    m.fit(x_train,y_train)\n",
    "    print(m,\"score\",m.score(x_train,y_train))\n",
    "    predm=m.predict(x_test)\n",
    "    print('mean abs error',mean_absolute_error(y_test,predm))\n",
    "    print('mean square error',mean_squared_error(y_test,predm))\n",
    "    print('RMSE',np.sqrt(mean_squared_error(y_test,predm)))\n",
    "    print(\"r2score\",r2_score(y_test,predm))\n",
    "    print(\"*********************************************\")\n",
    "    print(\"\\n\")"
   ]
  },
  {
   "cell_type": "markdown",
   "metadata": {},
   "source": [
    "Observation:Linear-46\n",
    "DTR-49\n",
    "KNN-9\n",
    "SVR-18\n",
    "LASSO-49\n",
    "RIDGE-46\n",
    "Adaboost-12\n",
    "RFR-13\n",
    "GB-20\n",
    "\n",
    "Lasso has the highest r2score\n",
    "    "
   ]
  },
  {
   "cell_type": "code",
   "execution_count": 123,
   "metadata": {},
   "outputs": [
    {
     "name": "stdout",
     "output_type": "stream",
     "text": [
      "LinearRegression()\n",
      "score [0.06624799 0.06445068 0.058126   0.06191809 0.07434253]\n",
      "mean score 0.06501705866813731 std 0.005401679895482501\n",
      "*****************************\n",
      "DecisionTreeRegressor()\n",
      "score [-0.63589415 -0.54386092 -0.5494081  -0.52233311 -0.57041607]\n",
      "mean score -0.5643824719307082 std 0.038894316957646925\n",
      "*****************************\n",
      "KNeighborsRegressor()\n",
      "score [ 0.0346352   0.03317097  0.02261947  0.00594934 -0.01432358]\n",
      "mean score 0.016410278529634236 std 0.01846956493447571\n",
      "*****************************\n",
      "SVR()\n",
      "score [0.05292569 0.02539844 0.05111462 0.00178498 0.0632665 ]\n",
      "mean score 0.038898045143607084 std 0.022358266058650156\n",
      "*****************************\n",
      "Lasso()\n",
      "score [0.06601134 0.06419226 0.05817293 0.06331257 0.07282977]\n",
      "mean score 0.06490377447849079 std 0.004741107127728413\n",
      "*****************************\n",
      "Ridge()\n",
      "score [0.06624908 0.06445151 0.05812553 0.06192103 0.074344  ]\n",
      "mean score 0.06501822988427042 std 0.005402002392873802\n",
      "*****************************\n",
      "ElasticNet()\n",
      "score [0.06133044 0.05888656 0.05268233 0.05934996 0.0678726 ]\n",
      "mean score 0.060024378340720386 std 0.0048776128827011525\n",
      "*****************************\n",
      "AdaBoostRegressor()\n",
      "score [0.09185735 0.10623223 0.09771421 0.13551955 0.10447073]\n",
      "mean score 0.10715881163568444 std 0.015071503963736556\n",
      "*****************************\n",
      "RandomForestRegressor()\n",
      "score [0.1279089  0.14515964 0.19399702 0.18593904 0.17659944]\n",
      "mean score 0.16592080760061156 std 0.025214945989481485\n",
      "*****************************\n",
      "GradientBoostingRegressor()\n",
      "score [0.20144889 0.19038291 0.21284007 0.20999133 0.20716903]\n",
      "mean score 0.20436644748130245 std 0.007941631958045358\n",
      "*****************************\n"
     ]
    }
   ],
   "source": [
    "#Crossvalidation\n",
    "from sklearn.model_selection import cross_val_score\n",
    "model=[LinearRegression(),DecisionTreeRegressor(),KNeighborsRegressor(),SVR(),Lasso(),Ridge(),ElasticNet(),AdaBoostRegressor(),RandomForestRegressor(),GradientBoostingRegressor()]\n",
    "for m in model:\n",
    "    m.fit(x_train,y_train)\n",
    "    rfcscores=cross_val_score(m,x,y,cv=5,scoring='r2')\n",
    "    print(m)\n",
    "    print('score',rfcscores)\n",
    "    print('mean score',rfcscores.mean(),'std',rfcscores.std())\n",
    "    print('*****************************')"
   ]
  },
  {
   "cell_type": "markdown",
   "metadata": {},
   "source": [
    "Observation:Lasso is having mean score 65% highest when compared to others methods"
   ]
  },
  {
   "cell_type": "code",
   "execution_count": 130,
   "metadata": {},
   "outputs": [
    {
     "name": "stdout",
     "output_type": "stream",
     "text": [
      "best parameters {'alpha': '1', 'random_state': 42}\n"
     ]
    }
   ],
   "source": [
    "#Gridsearchcv for lasso\n",
    "from sklearn.model_selection import GridSearchCV\n",
    "las=Lasso()\n",
    "parameters={'alpha':['1','0','0.1','0.01','0.001','0.0001'],'random_state':range(42,200)}\n",
    "clf=GridSearchCV(ridge,parameters)\n",
    "clf.fit(x,y)\n",
    "print('best parameters',clf.best_params_)"
   ]
  },
  {
   "cell_type": "code",
   "execution_count": 131,
   "metadata": {},
   "outputs": [
    {
     "name": "stdout",
     "output_type": "stream",
     "text": [
      "0.07446002676155261\n",
      "mean abs error 150.0970276834453\n",
      "mean square error 33748.37866803741\n",
      "RMSE 183.70731794906106\n",
      "r2score 0.0505767808901163\n"
     ]
    }
   ],
   "source": [
    "#Best model for ridge on adaboost\n",
    "from sklearn.ensemble import AdaBoostRegressor\n",
    "l=Lasso()\n",
    "r=AdaBoostRegressor(base_estimator=l,n_estimators=5,learning_rate=0.1,random_state=42)\n",
    "r.fit(x_train,y_train)\n",
    "predr=r.predict(x_test)\n",
    "print(r.score(x_train,y_train))\n",
    "print('mean abs error',mean_absolute_error(y_test,predr))\n",
    "print('mean square error',mean_squared_error(y_test,predr))\n",
    "print('RMSE',np.sqrt(mean_squared_error(y_test,predr)))\n",
    "print(\"r2score\",r2_score(y_test,predr))"
   ]
  },
  {
   "cell_type": "markdown",
   "metadata": {},
   "source": [
    "# Test data"
   ]
  },
  {
   "cell_type": "code",
   "execution_count": 132,
   "metadata": {},
   "outputs": [
    {
     "data": {
      "text/html": [
       "<div>\n",
       "<style scoped>\n",
       "    .dataframe tbody tr th:only-of-type {\n",
       "        vertical-align: middle;\n",
       "    }\n",
       "\n",
       "    .dataframe tbody tr th {\n",
       "        vertical-align: top;\n",
       "    }\n",
       "\n",
       "    .dataframe thead th {\n",
       "        text-align: right;\n",
       "    }\n",
       "</style>\n",
       "<table border=\"1\" class=\"dataframe\">\n",
       "  <thead>\n",
       "    <tr style=\"text-align: right;\">\n",
       "      <th></th>\n",
       "      <th>Qualification</th>\n",
       "      <th>Experience</th>\n",
       "      <th>Rating</th>\n",
       "      <th>Place</th>\n",
       "      <th>Profile</th>\n",
       "      <th>Miscellaneous_Info</th>\n",
       "    </tr>\n",
       "  </thead>\n",
       "  <tbody>\n",
       "    <tr>\n",
       "      <th>0</th>\n",
       "      <td>MBBS</td>\n",
       "      <td>35 years experience</td>\n",
       "      <td>NaN</td>\n",
       "      <td>Ghatkopar East, Mumbai</td>\n",
       "      <td>General Medicine</td>\n",
       "      <td>NaN</td>\n",
       "    </tr>\n",
       "    <tr>\n",
       "      <th>1</th>\n",
       "      <td>MBBS, Diploma in Otorhinolaryngology (DLO)</td>\n",
       "      <td>31 years experience</td>\n",
       "      <td>NaN</td>\n",
       "      <td>West Marredpally, Hyderabad</td>\n",
       "      <td>ENT Specialist</td>\n",
       "      <td>NaN</td>\n",
       "    </tr>\n",
       "    <tr>\n",
       "      <th>2</th>\n",
       "      <td>MBBS, DDVL</td>\n",
       "      <td>40 years experience</td>\n",
       "      <td>70%</td>\n",
       "      <td>KK Nagar, Chennai</td>\n",
       "      <td>Dermatologists</td>\n",
       "      <td>70% 4 Feedback KK Nagar, Chennai</td>\n",
       "    </tr>\n",
       "    <tr>\n",
       "      <th>3</th>\n",
       "      <td>BAMS</td>\n",
       "      <td>0 years experience</td>\n",
       "      <td>NaN</td>\n",
       "      <td>New Ashok Nagar, Delhi</td>\n",
       "      <td>Ayurveda</td>\n",
       "      <td>NaN</td>\n",
       "    </tr>\n",
       "    <tr>\n",
       "      <th>4</th>\n",
       "      <td>BDS, MDS - Conservative Dentistry &amp; Endodontics</td>\n",
       "      <td>16 years experience</td>\n",
       "      <td>100%</td>\n",
       "      <td>Kanakpura Road, Bangalore</td>\n",
       "      <td>Dentist</td>\n",
       "      <td>General Dentistry Conservative Dentistry Cosme...</td>\n",
       "    </tr>\n",
       "    <tr>\n",
       "      <th>...</th>\n",
       "      <td>...</td>\n",
       "      <td>...</td>\n",
       "      <td>...</td>\n",
       "      <td>...</td>\n",
       "      <td>...</td>\n",
       "      <td>...</td>\n",
       "    </tr>\n",
       "    <tr>\n",
       "      <th>1982</th>\n",
       "      <td>BAMS, Doctor of Medicine</td>\n",
       "      <td>10 years experience</td>\n",
       "      <td>NaN</td>\n",
       "      <td>Basavanagudi, Bangalore</td>\n",
       "      <td>Ayurveda</td>\n",
       "      <td>NaN</td>\n",
       "    </tr>\n",
       "    <tr>\n",
       "      <th>1983</th>\n",
       "      <td>MD - Dermatology , Venereology &amp; Leprosy, MBBS</td>\n",
       "      <td>4 years experience</td>\n",
       "      <td>NaN</td>\n",
       "      <td>Choolai, Chennai</td>\n",
       "      <td>Dermatologists</td>\n",
       "      <td>NaN</td>\n",
       "    </tr>\n",
       "    <tr>\n",
       "      <th>1984</th>\n",
       "      <td>MBBS, MD / MS - Obstetrics &amp; Gynaecology</td>\n",
       "      <td>9 years experience</td>\n",
       "      <td>NaN</td>\n",
       "      <td>Porur, Chennai</td>\n",
       "      <td>General Medicine</td>\n",
       "      <td>NaN</td>\n",
       "    </tr>\n",
       "    <tr>\n",
       "      <th>1985</th>\n",
       "      <td>BDS</td>\n",
       "      <td>12 years experience</td>\n",
       "      <td>98%</td>\n",
       "      <td>Arekere, Bangalore</td>\n",
       "      <td>Dentist</td>\n",
       "      <td>RCT - Root Canal Treatment Root Canal Treatmen...</td>\n",
       "    </tr>\n",
       "    <tr>\n",
       "      <th>1986</th>\n",
       "      <td>MBBS, MD - Dermatology , Venereology &amp; Leprosy</td>\n",
       "      <td>8 years experience</td>\n",
       "      <td>NaN</td>\n",
       "      <td>Pallikaranai, Chennai</td>\n",
       "      <td>Dermatologists</td>\n",
       "      <td>1 Feedback Pallikaranai, Chennai ₹500</td>\n",
       "    </tr>\n",
       "  </tbody>\n",
       "</table>\n",
       "<p>1987 rows × 6 columns</p>\n",
       "</div>"
      ],
      "text/plain": [
       "                                        Qualification           Experience  \\\n",
       "0                                                MBBS  35 years experience   \n",
       "1          MBBS, Diploma in Otorhinolaryngology (DLO)  31 years experience   \n",
       "2                                          MBBS, DDVL  40 years experience   \n",
       "3                                                BAMS   0 years experience   \n",
       "4     BDS, MDS - Conservative Dentistry & Endodontics  16 years experience   \n",
       "...                                               ...                  ...   \n",
       "1982                         BAMS, Doctor of Medicine  10 years experience   \n",
       "1983   MD - Dermatology , Venereology & Leprosy, MBBS   4 years experience   \n",
       "1984         MBBS, MD / MS - Obstetrics & Gynaecology   9 years experience   \n",
       "1985                                              BDS  12 years experience   \n",
       "1986   MBBS, MD - Dermatology , Venereology & Leprosy   8 years experience   \n",
       "\n",
       "     Rating                        Place           Profile  \\\n",
       "0       NaN       Ghatkopar East, Mumbai  General Medicine   \n",
       "1       NaN  West Marredpally, Hyderabad    ENT Specialist   \n",
       "2       70%            KK Nagar, Chennai    Dermatologists   \n",
       "3       NaN       New Ashok Nagar, Delhi          Ayurveda   \n",
       "4      100%    Kanakpura Road, Bangalore           Dentist   \n",
       "...     ...                          ...               ...   \n",
       "1982    NaN      Basavanagudi, Bangalore          Ayurveda   \n",
       "1983    NaN             Choolai, Chennai    Dermatologists   \n",
       "1984    NaN               Porur, Chennai  General Medicine   \n",
       "1985    98%           Arekere, Bangalore           Dentist   \n",
       "1986    NaN        Pallikaranai, Chennai    Dermatologists   \n",
       "\n",
       "                                     Miscellaneous_Info  \n",
       "0                                                   NaN  \n",
       "1                                                   NaN  \n",
       "2                      70% 4 Feedback KK Nagar, Chennai  \n",
       "3                                                   NaN  \n",
       "4     General Dentistry Conservative Dentistry Cosme...  \n",
       "...                                                 ...  \n",
       "1982                                                NaN  \n",
       "1983                                                NaN  \n",
       "1984                                                NaN  \n",
       "1985  RCT - Root Canal Treatment Root Canal Treatmen...  \n",
       "1986              1 Feedback Pallikaranai, Chennai ₹500  \n",
       "\n",
       "[1987 rows x 6 columns]"
      ]
     },
     "execution_count": 132,
     "metadata": {},
     "output_type": "execute_result"
    }
   ],
   "source": [
    "f=pd.read_csv('test.csv')\n",
    "f"
   ]
  },
  {
   "cell_type": "code",
   "execution_count": 133,
   "metadata": {},
   "outputs": [
    {
     "name": "stdout",
     "output_type": "stream",
     "text": [
      "(array([   2,   17,   65,   72,  104,  145,  168,  214,  258,  264,  303,\n",
      "        362,  398,  435,  436,  449,  454,  533,  564,  617,  622,  641,\n",
      "        652,  671,  743,  773,  840,  951,  964,  976,  992,  992,  996,\n",
      "       1001, 1042, 1056, 1061, 1094, 1099, 1115, 1121, 1130, 1201, 1229,\n",
      "       1233, 1246, 1284, 1288, 1294, 1297, 1337, 1394, 1405, 1425, 1451,\n",
      "       1469, 1521, 1530, 1632, 1640, 1657, 1724, 1776, 1790, 1793, 1817,\n",
      "       1825, 1830, 1852, 1856, 1875, 1958, 1980], dtype=int64), array([1, 1, 1, 1, 0, 7, 1, 1, 0, 0, 7, 1, 0, 7, 1, 1, 1, 7, 1, 0, 1, 0,\n",
      "       1, 1, 7, 1, 7, 7, 1, 1, 0, 1, 1, 1, 7, 7, 1, 1, 1, 7, 1, 7, 1, 7,\n",
      "       1, 0, 0, 1, 1, 0, 0, 1, 1, 1, 1, 7, 7, 1, 7, 1, 1, 1, 1, 1, 7, 7,\n",
      "       1, 1, 7, 1, 1, 1, 7], dtype=int64))\n"
     ]
    },
    {
     "data": {
      "text/html": [
       "<div>\n",
       "<style scoped>\n",
       "    .dataframe tbody tr th:only-of-type {\n",
       "        vertical-align: middle;\n",
       "    }\n",
       "\n",
       "    .dataframe tbody tr th {\n",
       "        vertical-align: top;\n",
       "    }\n",
       "\n",
       "    .dataframe thead th {\n",
       "        text-align: right;\n",
       "    }\n",
       "</style>\n",
       "<table border=\"1\" class=\"dataframe\">\n",
       "  <thead>\n",
       "    <tr style=\"text-align: right;\">\n",
       "      <th></th>\n",
       "      <th>Experience</th>\n",
       "      <th>Rating</th>\n",
       "      <th>Profile</th>\n",
       "      <th>p1</th>\n",
       "      <th>p2</th>\n",
       "      <th>q1</th>\n",
       "      <th>q2</th>\n",
       "      <th>mis</th>\n",
       "    </tr>\n",
       "  </thead>\n",
       "  <tbody>\n",
       "    <tr>\n",
       "      <th>0</th>\n",
       "      <td>35</td>\n",
       "      <td>94.441472</td>\n",
       "      <td>4</td>\n",
       "      <td>142</td>\n",
       "      <td>6</td>\n",
       "      <td>48</td>\n",
       "      <td>132</td>\n",
       "      <td>42.37691</td>\n",
       "    </tr>\n",
       "    <tr>\n",
       "      <th>1</th>\n",
       "      <td>31</td>\n",
       "      <td>94.441472</td>\n",
       "      <td>3</td>\n",
       "      <td>577</td>\n",
       "      <td>5</td>\n",
       "      <td>48</td>\n",
       "      <td>79</td>\n",
       "      <td>42.37691</td>\n",
       "    </tr>\n",
       "    <tr>\n",
       "      <th>3</th>\n",
       "      <td>0</td>\n",
       "      <td>94.441472</td>\n",
       "      <td>0</td>\n",
       "      <td>373</td>\n",
       "      <td>3</td>\n",
       "      <td>1</td>\n",
       "      <td>132</td>\n",
       "      <td>42.37691</td>\n",
       "    </tr>\n",
       "    <tr>\n",
       "      <th>4</th>\n",
       "      <td>16</td>\n",
       "      <td>100.000000</td>\n",
       "      <td>1</td>\n",
       "      <td>231</td>\n",
       "      <td>0</td>\n",
       "      <td>2</td>\n",
       "      <td>157</td>\n",
       "      <td>42.37691</td>\n",
       "    </tr>\n",
       "    <tr>\n",
       "      <th>5</th>\n",
       "      <td>14</td>\n",
       "      <td>90.000000</td>\n",
       "      <td>1</td>\n",
       "      <td>552</td>\n",
       "      <td>1</td>\n",
       "      <td>2</td>\n",
       "      <td>156</td>\n",
       "      <td>42.37691</td>\n",
       "    </tr>\n",
       "    <tr>\n",
       "      <th>...</th>\n",
       "      <td>...</td>\n",
       "      <td>...</td>\n",
       "      <td>...</td>\n",
       "      <td>...</td>\n",
       "      <td>...</td>\n",
       "      <td>...</td>\n",
       "      <td>...</td>\n",
       "      <td>...</td>\n",
       "    </tr>\n",
       "    <tr>\n",
       "      <th>1982</th>\n",
       "      <td>10</td>\n",
       "      <td>94.441472</td>\n",
       "      <td>0</td>\n",
       "      <td>58</td>\n",
       "      <td>0</td>\n",
       "      <td>1</td>\n",
       "      <td>86</td>\n",
       "      <td>42.37691</td>\n",
       "    </tr>\n",
       "    <tr>\n",
       "      <th>1983</th>\n",
       "      <td>4</td>\n",
       "      <td>94.441472</td>\n",
       "      <td>2</td>\n",
       "      <td>96</td>\n",
       "      <td>1</td>\n",
       "      <td>52</td>\n",
       "      <td>241</td>\n",
       "      <td>42.37691</td>\n",
       "    </tr>\n",
       "    <tr>\n",
       "      <th>1984</th>\n",
       "      <td>9</td>\n",
       "      <td>94.441472</td>\n",
       "      <td>4</td>\n",
       "      <td>423</td>\n",
       "      <td>1</td>\n",
       "      <td>48</td>\n",
       "      <td>153</td>\n",
       "      <td>42.37691</td>\n",
       "    </tr>\n",
       "    <tr>\n",
       "      <th>1985</th>\n",
       "      <td>12</td>\n",
       "      <td>98.000000</td>\n",
       "      <td>1</td>\n",
       "      <td>26</td>\n",
       "      <td>0</td>\n",
       "      <td>2</td>\n",
       "      <td>132</td>\n",
       "      <td>42.37691</td>\n",
       "    </tr>\n",
       "    <tr>\n",
       "      <th>1986</th>\n",
       "      <td>8</td>\n",
       "      <td>94.441472</td>\n",
       "      <td>2</td>\n",
       "      <td>393</td>\n",
       "      <td>1</td>\n",
       "      <td>48</td>\n",
       "      <td>133</td>\n",
       "      <td>1.00000</td>\n",
       "    </tr>\n",
       "  </tbody>\n",
       "</table>\n",
       "<p>1915 rows × 8 columns</p>\n",
       "</div>"
      ],
      "text/plain": [
       "      Experience      Rating  Profile   p1  p2  q1   q2       mis\n",
       "0             35   94.441472        4  142   6  48  132  42.37691\n",
       "1             31   94.441472        3  577   5  48   79  42.37691\n",
       "3              0   94.441472        0  373   3   1  132  42.37691\n",
       "4             16  100.000000        1  231   0   2  157  42.37691\n",
       "5             14   90.000000        1  552   1   2  156  42.37691\n",
       "...          ...         ...      ...  ...  ..  ..  ...       ...\n",
       "1982          10   94.441472        0   58   0   1   86  42.37691\n",
       "1983           4   94.441472        2   96   1  52  241  42.37691\n",
       "1984           9   94.441472        4  423   1  48  153  42.37691\n",
       "1985          12   98.000000        1   26   0   2  132  42.37691\n",
       "1986           8   94.441472        2  393   1  48  133   1.00000\n",
       "\n",
       "[1915 rows x 8 columns]"
      ]
     },
     "execution_count": 133,
     "metadata": {},
     "output_type": "execute_result"
    }
   ],
   "source": [
    "#Applyting same steps as in Test data\n",
    "#Split p1 p2 q1 q2\n",
    "p1=f['Place'].str.split(\",\").str[0]\n",
    "f['p1'] = p1\n",
    "p2=f['Place'].str.split(\",\").str[1]\n",
    "f['p2'] = p2\n",
    "q1=f['Qualification'].str.split(\",\").str[0]\n",
    "f['q1'] = q1\n",
    "q2=f['Qualification'].str.split(\",\").str[1]\n",
    "f['q2'] = q2\n",
    "\n",
    "#Replace % and years experience\n",
    "f['Experience']=pd.to_numeric(f['Experience'].str.replace(\"years experience\",\"\"))\n",
    "f['Rating']=pd.to_numeric(f['Rating'].str.replace(\"%\",\"\"))\n",
    "\n",
    "#replace and split mis \n",
    "def func(x):\n",
    "    try:\n",
    "        int(x)\n",
    "        return int(x)\n",
    "    except:\n",
    "        return np.nan\n",
    "\n",
    "p=f['Miscellaneous_Info'].str.split(r'Feedback').str[0].str.split(\" \").str[-2].apply(func)\n",
    "f['mis'] = p\n",
    "\n",
    "#Simple imputer to replace NAN value\n",
    "from sklearn.impute import SimpleImputer\n",
    "imp1=SimpleImputer(strategy=\"mean\")\n",
    "f['Rating']=imp1.fit_transform(f['Rating'].values.reshape(-1,1))\n",
    "f['mis']=imp1.fit_transform(f['mis'].values.reshape(-1,1))\n",
    "\n",
    "for col in ['q2']:\n",
    "    f[col].fillna(f[col].mode()[0],inplace=True)\n",
    "\n",
    "#Drop qaulification,place,miscellaneous \n",
    "f=f.drop([\"Qualification\",\"Place\",\"Miscellaneous_Info\"],axis=1)\n",
    "\n",
    "#Label encoding\n",
    "from sklearn import preprocessing\n",
    "le=preprocessing.LabelEncoder()\n",
    "list1=['Profile','p2','q1','q2','p1']\n",
    "for val in list1:\n",
    "    f[val]=le.fit_transform(f[val].astype(str))\n",
    "\n",
    "#Outliers\n",
    "from scipy.stats import zscore\n",
    "z=np.abs(zscore(f))\n",
    "threshold=3\n",
    "print(np.where(z>3))\n",
    "data1=f[(z<3).all(axis=1)]\n",
    "data1"
   ]
  },
  {
   "cell_type": "code",
   "execution_count": 134,
   "metadata": {},
   "outputs": [
    {
     "name": "stdout",
     "output_type": "stream",
     "text": [
      "(1987, 8)\n",
      "(1915, 8)\n"
     ]
    }
   ],
   "source": [
    "print(f.shape) #dataset\n",
    "print(data1.shape) #Removed Outliers"
   ]
  },
  {
   "cell_type": "code",
   "execution_count": 135,
   "metadata": {},
   "outputs": [
    {
     "data": {
      "text/plain": [
       "array([-1236.60435727, -6862.81475088, -5867.78346527, ...,\n",
       "       -4988.97905432, -1155.8986326 , -4221.29941218])"
      ]
     },
     "execution_count": 135,
     "metadata": {},
     "output_type": "execute_result"
    }
   ],
   "source": [
    "#predicting \n",
    "r.predict(data1)"
   ]
  },
  {
   "cell_type": "code",
   "execution_count": 136,
   "metadata": {},
   "outputs": [],
   "source": [
    "df=pd.DataFrame(predr)\n",
    "df.to_csv('Finaldocpred.csv')"
   ]
  },
  {
   "cell_type": "code",
   "execution_count": null,
   "metadata": {},
   "outputs": [],
   "source": []
  }
 ],
 "metadata": {
  "kernelspec": {
   "display_name": "Python 3",
   "language": "python",
   "name": "python3"
  },
  "language_info": {
   "codemirror_mode": {
    "name": "ipython",
    "version": 3
   },
   "file_extension": ".py",
   "mimetype": "text/x-python",
   "name": "python",
   "nbconvert_exporter": "python",
   "pygments_lexer": "ipython3",
   "version": "3.8.3"
  }
 },
 "nbformat": 4,
 "nbformat_minor": 4
}
